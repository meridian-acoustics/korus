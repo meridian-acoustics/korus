{
 "cells": [
  {
   "cell_type": "markdown",
   "id": "b6498e38",
   "metadata": {},
   "source": [
    "# Taxonomies"
   ]
  },
  {
   "cell_type": "markdown",
   "id": "d6d01827",
   "metadata": {},
   "source": [
    "## Table of contents\n",
    "* [Introduction](#introduction)\n",
    "* [Getting ready](#getting-ready)\n",
    "* [Creating a taxonomy](#creating-a-taxonomy)\n",
    "* [Adding sound sources](#adding-sound-sources)\n",
    "* [Adding sound types](#adding-sound-types)\n",
    "* [Saving the taxonomy](#saving-the-taxonomy)\n",
    "* [Modifying or expanding a taxonomy](#modifying-or-expanding-a-taxonomy)"
   ]
  },
  {
   "cell_type": "markdown",
   "id": "2f187d50",
   "metadata": {},
   "source": [
    "## Introduction <a class=\"anchor\" id=\"introduction\"></a>"
   ]
  },
  {
   "cell_type": "markdown",
   "id": "8712c3c6",
   "metadata": {},
   "source": [
    "Annotation/classification taxonomies are based on a simple, tree-like data structure in which smaller categories derive from larger ones, or more specific concepts derive from more general ones, etc. For example, a killer whale is a particular type of toothed whale, which in turn is a type of whale, which is a type of marine mammal, etc.\n",
    "\n",
    "Having such taxonomies is useful for two reasons: First, it provides a standard vocabulary for labelling sounds, which ensures that labels are consistent across annotation efforts (e.g. killer whales are consistently tagged as 'KW' rather than a mixture of 'killer whale', 'orca', 'KW', etc.). Second, their hierarchical structure provides a \n",
    "recipe for combining sets of annotations that employ different levels of specificity (e.g. 'killer whale' and 'toothed whale').\n",
    "\n",
    "When annotating acoustic data, it is customary to use not one, but two 'tags' to label every sound: one tag to specify the sound's source (e.g. a killer whale) and another tag to specify the type of sound (e.g. a tonal call). A taxonomy for acoustic data needs to address both of these. In Korus, we do not enforce a 'universal' taxonomy of sound types shared by all sound sources. Instead, every sound sources can have its own taxonomy of sound types. "
   ]
  },
  {
   "cell_type": "markdown",
   "id": "be4fddc7",
   "metadata": {},
   "source": [
    "## Getting ready <a class=\"anchor\" id=\"getting-ready\"></a>\n",
    "We begin by importing the necessary modules, classes, functions, etc."
   ]
  },
  {
   "cell_type": "code",
   "execution_count": 1,
   "id": "41a7b32d",
   "metadata": {},
   "outputs": [],
   "source": [
    "from korus.tax import AcousticTaxonomy"
   ]
  },
  {
   "cell_type": "markdown",
   "id": "56f2de34",
   "metadata": {},
   "source": [
    "## Creating a taxonomy <a class=\"anchor\" id=\"creating-a-taxonomy\"></a>"
   ]
  },
  {
   "cell_type": "markdown",
   "id": "b30ee5ae",
   "metadata": {},
   "source": [
    "The first step in creating an acoustic taxonomy instance of the `AcousticTaxonomy` class. In order to do so, we must give the taxonomy a name, "
   ]
  },
  {
   "cell_type": "markdown",
   "id": "6153d5b5",
   "metadata": {},
   "source": [
    "When creating a new taxonomy, our first task consists in specifying the path to the Korus database where we want to store the taxonomy. This can be an existing Korus database, already containing some data, or it can be a new, empty database. "
   ]
  },
  {
   "cell_type": "code",
   "execution_count": 2,
   "id": "383b2c9a",
   "metadata": {},
   "outputs": [],
   "source": [
    "path_db = \"tax_t1.sqlite\"  #filename for a new, empty database"
   ]
  },
  {
   "cell_type": "markdown",
   "id": "8b9b26d4",
   "metadata": {},
   "source": [
    "Now we can create  the `AcousticTaxonomy` class, specifying a name for our taxonomy."
   ]
  },
  {
   "cell_type": "code",
   "execution_count": 3,
   "id": "f48026ac",
   "metadata": {},
   "outputs": [],
   "source": [
    "tax = AcousticTaxonomy(name=\"my-first-taxonomy\", path=path_db, overwrite=True)"
   ]
  },
  {
   "cell_type": "markdown",
   "id": "f4bece48",
   "metadata": {},
   "source": [
    "The database path and the taxonomy name are class attributes, and can be viewed at any time with"
   ]
  },
  {
   "cell_type": "code",
   "execution_count": 4,
   "id": "9777e72e",
   "metadata": {},
   "outputs": [
    {
     "name": "stdout",
     "output_type": "stream",
     "text": [
      "my-first-taxonomy\n",
      "tax_t1.sqlite\n"
     ]
    }
   ],
   "source": [
    "print(tax.name)\n",
    "print(tax.path)"
   ]
  },
  {
   "cell_type": "markdown",
   "id": "d41b1e25",
   "metadata": {},
   "source": [
    "## Adding sound sources <a class=\"anchor\" id=\"adding-sound-sources\"></a>"
   ]
  },
  {
   "cell_type": "markdown",
   "id": "da3fdbc0",
   "metadata": {},
   "source": [
    "We begin by adding a top-level node to the taxonomy tree, encompassing all biological sound sources,"
   ]
  },
  {
   "cell_type": "code",
   "execution_count": 5,
   "id": "63079186",
   "metadata": {},
   "outputs": [],
   "source": [
    "node = tax.create_sound_source(\"Bio\", name=\"Biological\", description=\"Any sound-producing animal\")"
   ]
  },
  {
   "cell_type": "markdown",
   "id": "ea483043",
   "metadata": {},
   "source": [
    "The first argument is the `tag` that will be used for annotating sounds from the source. Ideally, the tag should be as short as possible while still readily intelligible. In addition to the `tag`, we also specify the full `name` of the sound source and provide a slightly more wordy description. Both the `name` and `description` arguments are optional while the `tag` argument is required.   \n",
    "\n",
    "The `create_sound_source` method returns the 'node' object just created. Let us take a look at some of its attributes,"
   ]
  },
  {
   "cell_type": "code",
   "execution_count": 6,
   "id": "79bd723d",
   "metadata": {},
   "outputs": [
    {
     "name": "stdout",
     "output_type": "stream",
     "text": [
      "Bio\n",
      "{'name': 'Biological', 'description': 'Any sound-producing animal', 'sound_types': <korus.tree.KTree object at 0x7ff1f8117dc0>}\n"
     ]
    }
   ],
   "source": [
    "print(node.tag)\n",
    "print(node.data)"
   ]
  },
  {
   "cell_type": "markdown",
   "id": "ee19868e",
   "metadata": {},
   "source": [
    "Next, let us add some more specific biological sound sources"
   ]
  },
  {
   "cell_type": "code",
   "execution_count": 7,
   "id": "afea4192",
   "metadata": {},
   "outputs": [
    {
     "data": {
      "text/plain": [
       "Node(tag=HW, identifier=f8801f82-7e7c-11ee-a47b-7c10c941f34b, data={'name': 'Humpback whale', 'sound_types': <korus.tree.KTree object at 0x7ff1a56096d0>})"
      ]
     },
     "execution_count": 7,
     "metadata": {},
     "output_type": "execute_result"
    }
   ],
   "source": [
    "tax.create_sound_source(\"Whale\", parent=\"Bio\")\n",
    "\n",
    "tax.create_sound_source(\"NARW\", parent=\"Whale\", name=\"North Atlantic right whale\")\n",
    "tax.create_sound_source(\"HW\", parent=\"Whale\", name=\"Humpback whale\")"
   ]
  },
  {
   "cell_type": "markdown",
   "id": "c5806852",
   "metadata": {},
   "source": [
    "Note how we use the `parent` argument to indicate the relationship between the various sound-source categories. For example, `Whale` is a particular instance of the more general category `Bio`, while `NARW` and `HW` in turn are particular instances of `Whale`."
   ]
  },
  {
   "cell_type": "markdown",
   "id": "fc9fbeef",
   "metadata": {},
   "source": [
    "Let us add another branch to the taxonomy, for anthropogenic sound sources,"
   ]
  },
  {
   "cell_type": "code",
   "execution_count": 8,
   "id": "a51faf03",
   "metadata": {},
   "outputs": [
    {
     "data": {
      "text/plain": [
       "Node(tag=Prop, identifier=f94d3f95-7e7c-11ee-bd50-7c10c941f34b, data={'name': 'Propeller', 'sound_types': <korus.tree.KTree object at 0x7ff1a55f1e80>})"
      ]
     },
     "execution_count": 8,
     "metadata": {},
     "output_type": "execute_result"
    }
   ],
   "source": [
    "tax.create_sound_source(\"Anthro\", name=\"Anthropogenic\", description=\"Any sound-producing human activity or artefact\")\n",
    "tax.create_sound_source(\"Boat\", parent=\"Anthro\")\n",
    "tax.create_sound_source(\"Engine\", parent=\"Boat\")\n",
    "tax.create_sound_source(\"Prop\", parent=\"Boat\", name=\"Propeller\")"
   ]
  },
  {
   "cell_type": "markdown",
   "id": "871b0818",
   "metadata": {},
   "source": [
    "Finally, let us take a look at the taxonomy that we have just created,"
   ]
  },
  {
   "cell_type": "code",
   "execution_count": 9,
   "id": "f8acd6b6",
   "metadata": {},
   "outputs": [
    {
     "name": "stdout",
     "output_type": "stream",
     "text": [
      "Unknown\n",
      "├── Anthro [Anthropogenic]\n",
      "│   └── Boat\n",
      "│       ├── Engine\n",
      "│       └── Prop [Propeller]\n",
      "└── Bio [Biological]\n",
      "    └── Whale\n",
      "        ├── HW [Humpback whale]\n",
      "        └── NARW [North Atlantic right whale]\n",
      "\n"
     ]
    }
   ],
   "source": [
    "tax.show(append_name=True)"
   ]
  },
  {
   "cell_type": "markdown",
   "id": "3a82fc2e",
   "metadata": {},
   "source": [
    "## Adding sound types <a class=\"anchor\" id=\"adding-sound-types\"></a>"
   ]
  },
  {
   "cell_type": "markdown",
   "id": "1ff670b0",
   "metadata": {},
   "source": [
    "Having created a small taxonomy of sound *sources*, it is now time to define some sound *types*. As mentioned in the [introduction](#introduction) every sound source can have its own taxonomy of sound types."
   ]
  },
  {
   "cell_type": "markdown",
   "id": "69b44fa0",
   "metadata": {},
   "source": [
    "We begin by creating a sound type named 'Tonal call',"
   ]
  },
  {
   "cell_type": "code",
   "execution_count": 10,
   "id": "9424bf4b",
   "metadata": {},
   "outputs": [],
   "source": [
    "node = tax.create_sound_type(\"TC\", source_tag=\"Whale\", name=\"Tonal call\", description=\"A sound with tonal components\")"
   ]
  },
  {
   "cell_type": "markdown",
   "id": "8f3e0958",
   "metadata": {},
   "source": [
    "Note that in order to create the sound type, we had to associate it with a sound source. Here, we chose to associate the sound type 'Tonal call' with the sound source 'Whale' (and all its descendants)."
   ]
  },
  {
   "cell_type": "markdown",
   "id": "c53c686e",
   "metadata": {},
   "source": [
    "Let us add a few more sound types, specific to the North Atlantic right whale,"
   ]
  },
  {
   "cell_type": "code",
   "execution_count": 11,
   "id": "56043bee",
   "metadata": {},
   "outputs": [],
   "source": [
    "node = tax.create_sound_type(\"LU\", source_tag=\"NARW\", parent=\"TC\", name=\"Loud Upcall\", description=\"A loud upsweep with a typical duration of around 1 s and frequency range of 100-200 Hz\")\n",
    "node = tax.create_sound_type(\"FU\", source_tag=\"NARW\", parent=\"TC\", name=\"Faint Upcall\", description=\"A faint upcall with a typical duration of around 1 s and frequency range of 100-200 Hz\")\n",
    "node = tax.create_sound_type(\"GS\", source_tag=\"NARW\", name=\"Gun shot\")"
   ]
  },
  {
   "cell_type": "markdown",
   "id": "b5982a1b",
   "metadata": {},
   "source": [
    "Finally, let's inspect the NARW sound-type taxonomy that we have just created "
   ]
  },
  {
   "cell_type": "code",
   "execution_count": 12,
   "id": "05fcc90d",
   "metadata": {},
   "outputs": [
    {
     "name": "stdout",
     "output_type": "stream",
     "text": [
      "Unknown\n",
      "├── GS [Gun shot]\n",
      "└── TC [Tonal call]\n",
      "    ├── FU [Faint Upcall]\n",
      "    └── LU [Loud Upcall]\n",
      "\n"
     ]
    }
   ],
   "source": [
    "tax.sound_types(\"NARW\").show(append_name=True)"
   ]
  },
  {
   "cell_type": "markdown",
   "id": "78fcdc5a",
   "metadata": {},
   "source": [
    "## Saving the taxonomy <a class=\"anchor\" id=\"saving-the-taxonomy\"></a>"
   ]
  },
  {
   "cell_type": "markdown",
   "id": "b2658c8b",
   "metadata": {},
   "source": [
    "Happy with our taxonomy, it is time to save it!"
   ]
  },
  {
   "cell_type": "code",
   "execution_count": 13,
   "id": "76b92b4e",
   "metadata": {},
   "outputs": [],
   "source": [
    "tax.save(comment=\"this is the first version\") # version 1"
   ]
  },
  {
   "cell_type": "markdown",
   "id": "a7af3e76",
   "metadata": {},
   "source": [
    "## Modifying or expanding a taxonomy <a class=\"anchor\" id=\"modifying-or-expanding-a-taxonomy\"></a>"
   ]
  },
  {
   "cell_type": "markdown",
   "id": "13e397c9",
   "metadata": {},
   "source": [
    "At a later time, we may decide to expand or modify our taxonomy. For example, we may have realized that faint upcalls (FU) and loud upcall (LU) are in fact the same call type, produced by individuals at different distances from our hydrophone. Therefore, we now want to merge these two sound sources into a single, common node.\n",
    "\n",
    "The begin by loading the taxonomy from the database file,"
   ]
  },
  {
   "cell_type": "code",
   "execution_count": 14,
   "id": "adc6f6eb",
   "metadata": {},
   "outputs": [],
   "source": [
    "tax = AcousticTaxonomy.load(path=\"tax_t1.sqlite\", name=\"my-first-taxonomy\", version=1)"
   ]
  },
  {
   "cell_type": "markdown",
   "id": "993e8af3",
   "metadata": {},
   "source": [
    "and reminding ourselves what the current tree structure looks like"
   ]
  },
  {
   "cell_type": "code",
   "execution_count": 15,
   "id": "62d2624d",
   "metadata": {},
   "outputs": [
    {
     "name": "stdout",
     "output_type": "stream",
     "text": [
      "Unknown\n",
      "├── Anthro [Anthropogenic]\n",
      "│   └── Boat\n",
      "│       ├── Engine\n",
      "│       └── Prop [Propeller]\n",
      "└── Bio [Biological]\n",
      "    └── Whale\n",
      "        ├── HW [Humpback whale]\n",
      "        └── NARW [North Atlantic right whale]\n",
      "\n"
     ]
    }
   ],
   "source": [
    "tax.show(append_name=True)  # print all sound sources"
   ]
  },
  {
   "cell_type": "code",
   "execution_count": 16,
   "id": "07aab837",
   "metadata": {},
   "outputs": [
    {
     "name": "stdout",
     "output_type": "stream",
     "text": [
      "Unknown\n",
      "├── GS [Gun shot]\n",
      "└── TC [Tonal call]\n",
      "    ├── FU [Faint Upcall]\n",
      "    └── LU [Loud Upcall]\n",
      "\n"
     ]
    }
   ],
   "source": [
    "tax.sound_types(\"NARW\").show(append_name=True)  # print sound types associated with NARW"
   ]
  },
  {
   "cell_type": "markdown",
   "id": "d2822ffc",
   "metadata": {},
   "source": [
    "Let us now merge the faint upcall and loud upcall nodes into a single node,"
   ]
  },
  {
   "cell_type": "code",
   "execution_count": 17,
   "id": "fb64b173",
   "metadata": {},
   "outputs": [
    {
     "name": "stdout",
     "output_type": "stream",
     "text": [
      "Unknown\n",
      "├── GS [Gun shot]\n",
      "└── TC [Tonal call]\n",
      "    └── Upcall\n",
      "\n"
     ]
    }
   ],
   "source": [
    "# merge the two nodes\n",
    "tax.merge_sound_types(\n",
    "    tag=\"Upcall\",           #tag for the new, merged node \n",
    "    source_tag=\"NARW\",      #sound source\n",
    "    children=[\"FU\", \"LU\"],  #the nodes to be merged\n",
    "    remove=True,            #whether to remove the child nodes after merging\n",
    ")\n",
    "\n",
    "# view the result\n",
    "tax.sound_types(\"NARW\").show(append_name=True)"
   ]
  },
  {
   "cell_type": "markdown",
   "id": "a0f27110",
   "metadata": {},
   "source": [
    "Finally, we must not forget to save the modified taxonomy."
   ]
  },
  {
   "cell_type": "code",
   "execution_count": 18,
   "id": "273816d0",
   "metadata": {},
   "outputs": [],
   "source": [
    "tax.save(comment=\"merged FU and LU sound types for NARW into a single Upcall sound type\")  # version 2"
   ]
  },
  {
   "cell_type": "markdown",
   "id": "adbb32d3",
   "metadata": {},
   "source": [
    "This concludes the tutorial."
   ]
  }
 ],
 "metadata": {
  "kernelspec": {
   "display_name": "Python 3 (ipykernel)",
   "language": "python",
   "name": "python3"
  },
  "language_info": {
   "codemirror_mode": {
    "name": "ipython",
    "version": 3
   },
   "file_extension": ".py",
   "mimetype": "text/x-python",
   "name": "python",
   "nbconvert_exporter": "python",
   "pygments_lexer": "ipython3",
   "version": "3.9.16"
  }
 },
 "nbformat": 4,
 "nbformat_minor": 5
}
